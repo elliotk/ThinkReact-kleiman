{
 "cells": [
  {
   "cell_type": "markdown",
   "metadata": {},
   "source": [
    "# Project 2\n",
    "\n",
    "In this project, you will implement the exploratory analysis plan developed in Project 1. This will lay the groundwork for our our first modeling exercise in Project 3."
   ]
  },
  {
   "cell_type": "markdown",
   "metadata": {},
   "source": [
    "### Step 1: Load the python libraries you will need for this project "
   ]
  },
  {
   "cell_type": "code",
   "execution_count": 1,
   "metadata": {
    "collapsed": true
   },
   "outputs": [],
   "source": [
    "#imports\n",
    "from __future__ import division\n",
    "import pandas as pd\n",
    "import numpy as np\n",
    "from scipy import stats\n",
    "import statsmodels.api as sm\n",
    "import matplotlib.pyplot as plt\n",
    "import pylab as pl\n",
    "%matplotlib inline\n",
    "import seaborn as sns"
   ]
  },
  {
   "cell_type": "markdown",
   "metadata": {},
   "source": [
    "### Step 2: Read in your data set "
   ]
  },
  {
   "cell_type": "code",
   "execution_count": 2,
   "metadata": {
    "collapsed": false
   },
   "outputs": [
    {
     "name": "stdout",
     "output_type": "stream",
     "text": [
      "   admit    gre   gpa  prestige\n",
      "0      0  380.0  3.61       3.0\n",
      "1      1  660.0  3.67       3.0\n",
      "2      1  800.0  4.00       1.0\n",
      "3      1  640.0  3.19       4.0\n",
      "4      0  520.0  2.93       4.0\n"
     ]
    }
   ],
   "source": [
    "#Read in data from source \n",
    "df_raw = pd.read_csv(\"../assets/admissions.csv\")\n",
    "print df_raw.head()"
   ]
  },
  {
   "cell_type": "markdown",
   "metadata": {},
   "source": [
    "## Questions\n",
    "#### Question 1. How many observations are in our dataset? \n"
   ]
  },
  {
   "cell_type": "code",
   "execution_count": 3,
   "metadata": {
    "collapsed": false,
    "scrolled": false
   },
   "outputs": [
    {
     "data": {
      "text/plain": [
       "admit       400\n",
       "gre         398\n",
       "gpa         398\n",
       "prestige    399\n",
       "dtype: int64"
      ]
     },
     "execution_count": 3,
     "metadata": {},
     "output_type": "execute_result"
    }
   ],
   "source": [
    "df_raw.count()"
   ]
  },
  {
   "cell_type": "code",
   "execution_count": 4,
   "metadata": {
    "collapsed": false
   },
   "outputs": [
    {
     "data": {
      "text/plain": [
       "1595"
      ]
     },
     "execution_count": 4,
     "metadata": {},
     "output_type": "execute_result"
    }
   ],
   "source": [
    "df_raw.count().sum()"
   ]
  },
  {
   "cell_type": "markdown",
   "metadata": {},
   "source": [
    "Answer: There are 1595 observations in our data set"
   ]
  },
  {
   "cell_type": "markdown",
   "metadata": {},
   "source": [
    "#### Question 2. Create a summary table"
   ]
  },
  {
   "cell_type": "code",
   "execution_count": 47,
   "metadata": {
    "collapsed": false
   },
   "outputs": [
    {
     "data": {
      "text/html": [
       "<div>\n",
       "<table border=\"1\" class=\"dataframe\">\n",
       "  <thead>\n",
       "    <tr style=\"text-align: right;\">\n",
       "      <th></th>\n",
       "      <th>admit</th>\n",
       "      <th>gre</th>\n",
       "      <th>gpa</th>\n",
       "      <th>prestige</th>\n",
       "    </tr>\n",
       "  </thead>\n",
       "  <tbody>\n",
       "    <tr>\n",
       "      <th>count</th>\n",
       "      <td>397.000000</td>\n",
       "      <td>397.000000</td>\n",
       "      <td>397.000000</td>\n",
       "      <td>397.000000</td>\n",
       "    </tr>\n",
       "    <tr>\n",
       "      <th>mean</th>\n",
       "      <td>0.317380</td>\n",
       "      <td>587.858942</td>\n",
       "      <td>3.392242</td>\n",
       "      <td>2.488665</td>\n",
       "    </tr>\n",
       "    <tr>\n",
       "      <th>std</th>\n",
       "      <td>0.466044</td>\n",
       "      <td>115.717787</td>\n",
       "      <td>0.380208</td>\n",
       "      <td>0.947083</td>\n",
       "    </tr>\n",
       "    <tr>\n",
       "      <th>min</th>\n",
       "      <td>0.000000</td>\n",
       "      <td>220.000000</td>\n",
       "      <td>2.260000</td>\n",
       "      <td>1.000000</td>\n",
       "    </tr>\n",
       "    <tr>\n",
       "      <th>25%</th>\n",
       "      <td>0.000000</td>\n",
       "      <td>520.000000</td>\n",
       "      <td>3.130000</td>\n",
       "      <td>2.000000</td>\n",
       "    </tr>\n",
       "    <tr>\n",
       "      <th>50%</th>\n",
       "      <td>0.000000</td>\n",
       "      <td>580.000000</td>\n",
       "      <td>3.400000</td>\n",
       "      <td>2.000000</td>\n",
       "    </tr>\n",
       "    <tr>\n",
       "      <th>75%</th>\n",
       "      <td>1.000000</td>\n",
       "      <td>660.000000</td>\n",
       "      <td>3.670000</td>\n",
       "      <td>3.000000</td>\n",
       "    </tr>\n",
       "    <tr>\n",
       "      <th>max</th>\n",
       "      <td>1.000000</td>\n",
       "      <td>800.000000</td>\n",
       "      <td>4.000000</td>\n",
       "      <td>4.000000</td>\n",
       "    </tr>\n",
       "  </tbody>\n",
       "</table>\n",
       "</div>"
      ],
      "text/plain": [
       "            admit         gre         gpa    prestige\n",
       "count  397.000000  397.000000  397.000000  397.000000\n",
       "mean     0.317380  587.858942    3.392242    2.488665\n",
       "std      0.466044  115.717787    0.380208    0.947083\n",
       "min      0.000000  220.000000    2.260000    1.000000\n",
       "25%      0.000000  520.000000    3.130000    2.000000\n",
       "50%      0.000000  580.000000    3.400000    2.000000\n",
       "75%      1.000000  660.000000    3.670000    3.000000\n",
       "max      1.000000  800.000000    4.000000    4.000000"
      ]
     },
     "execution_count": 47,
     "metadata": {},
     "output_type": "execute_result"
    }
   ],
   "source": [
    "summary_stats_admissions = df_raw.describe()\n",
    "summary_stats_admissions"
   ]
  },
  {
   "cell_type": "code",
   "execution_count": 154,
   "metadata": {
    "collapsed": false
   },
   "outputs": [
    {
     "data": {
      "text/plain": [
       "[220, 520]    122\n",
       "(520, 580]     79\n",
       "(580, 660]     98\n",
       "(660, 800]     99\n",
       "Name: gre, dtype: int64"
      ]
     },
     "execution_count": 154,
     "metadata": {},
     "output_type": "execute_result"
    }
   ],
   "source": [
    "# Compute quantiles of gre\n",
    "gre_quantiles = pd.qcut(df_raw['gre'], 4)\n",
    "gre_quantiles.value_counts().sort_index()"
   ]
  },
  {
   "cell_type": "code",
   "execution_count": 155,
   "metadata": {
    "collapsed": false
   },
   "outputs": [
    {
     "data": {
      "text/plain": [
       "[2.26, 3.13]     103\n",
       "(3.13, 3.395]     96\n",
       "(3.395, 3.67]    102\n",
       "(3.67, 4]         97\n",
       "Name: gpa, dtype: int64"
      ]
     },
     "execution_count": 155,
     "metadata": {},
     "output_type": "execute_result"
    }
   ],
   "source": [
    "# Compute quantiles of gpa\n",
    "gpa_quantiles = pd.qcut(df_raw['gpa'], 4)\n",
    "gpa_quantiles.value_counts().sort_index()"
   ]
  },
  {
   "cell_type": "code",
   "execution_count": 156,
   "metadata": {
    "collapsed": false
   },
   "outputs": [
    {
     "data": {
      "text/html": [
       "<div>\n",
       "<table border=\"1\" class=\"dataframe\">\n",
       "  <thead>\n",
       "    <tr>\n",
       "      <th></th>\n",
       "      <th></th>\n",
       "      <th colspan=\"16\" halign=\"left\">len</th>\n",
       "    </tr>\n",
       "    <tr>\n",
       "      <th></th>\n",
       "      <th></th>\n",
       "      <th colspan=\"16\" halign=\"left\">gre</th>\n",
       "    </tr>\n",
       "    <tr>\n",
       "      <th></th>\n",
       "      <th>gpa</th>\n",
       "      <th colspan=\"4\" halign=\"left\">[2.26, 3.13]</th>\n",
       "      <th colspan=\"4\" halign=\"left\">(3.13, 3.395]</th>\n",
       "      <th colspan=\"4\" halign=\"left\">(3.395, 3.67]</th>\n",
       "      <th colspan=\"4\" halign=\"left\">(3.67, 4]</th>\n",
       "    </tr>\n",
       "    <tr>\n",
       "      <th></th>\n",
       "      <th>prestige</th>\n",
       "      <th>1.0</th>\n",
       "      <th>2.0</th>\n",
       "      <th>3.0</th>\n",
       "      <th>4.0</th>\n",
       "      <th>1.0</th>\n",
       "      <th>2.0</th>\n",
       "      <th>3.0</th>\n",
       "      <th>4.0</th>\n",
       "      <th>1.0</th>\n",
       "      <th>2.0</th>\n",
       "      <th>3.0</th>\n",
       "      <th>4.0</th>\n",
       "      <th>1.0</th>\n",
       "      <th>2.0</th>\n",
       "      <th>3.0</th>\n",
       "      <th>4.0</th>\n",
       "    </tr>\n",
       "    <tr>\n",
       "      <th>admit</th>\n",
       "      <th>gre</th>\n",
       "      <th></th>\n",
       "      <th></th>\n",
       "      <th></th>\n",
       "      <th></th>\n",
       "      <th></th>\n",
       "      <th></th>\n",
       "      <th></th>\n",
       "      <th></th>\n",
       "      <th></th>\n",
       "      <th></th>\n",
       "      <th></th>\n",
       "      <th></th>\n",
       "      <th></th>\n",
       "      <th></th>\n",
       "      <th></th>\n",
       "      <th></th>\n",
       "    </tr>\n",
       "  </thead>\n",
       "  <tbody>\n",
       "    <tr>\n",
       "      <th rowspan=\"4\" valign=\"top\">0</th>\n",
       "      <th>[220, 520]</th>\n",
       "      <td>5.0</td>\n",
       "      <td>12.0</td>\n",
       "      <td>18.0</td>\n",
       "      <td>12.0</td>\n",
       "      <td>3.0</td>\n",
       "      <td>6.0</td>\n",
       "      <td>11.0</td>\n",
       "      <td>5.0</td>\n",
       "      <td>NaN</td>\n",
       "      <td>8.0</td>\n",
       "      <td>5.0</td>\n",
       "      <td>3.0</td>\n",
       "      <td>NaN</td>\n",
       "      <td>1.0</td>\n",
       "      <td>2.0</td>\n",
       "      <td>3.0</td>\n",
       "    </tr>\n",
       "    <tr>\n",
       "      <th>(520, 580]</th>\n",
       "      <td>2.0</td>\n",
       "      <td>9.0</td>\n",
       "      <td>3.0</td>\n",
       "      <td>1.0</td>\n",
       "      <td>4.0</td>\n",
       "      <td>4.0</td>\n",
       "      <td>5.0</td>\n",
       "      <td>5.0</td>\n",
       "      <td>NaN</td>\n",
       "      <td>6.0</td>\n",
       "      <td>5.0</td>\n",
       "      <td>4.0</td>\n",
       "      <td>2.0</td>\n",
       "      <td>3.0</td>\n",
       "      <td>3.0</td>\n",
       "      <td>2.0</td>\n",
       "    </tr>\n",
       "    <tr>\n",
       "      <th>(580, 660]</th>\n",
       "      <td>NaN</td>\n",
       "      <td>5.0</td>\n",
       "      <td>2.0</td>\n",
       "      <td>3.0</td>\n",
       "      <td>3.0</td>\n",
       "      <td>6.0</td>\n",
       "      <td>5.0</td>\n",
       "      <td>3.0</td>\n",
       "      <td>NaN</td>\n",
       "      <td>9.0</td>\n",
       "      <td>7.0</td>\n",
       "      <td>2.0</td>\n",
       "      <td>1.0</td>\n",
       "      <td>4.0</td>\n",
       "      <td>9.0</td>\n",
       "      <td>1.0</td>\n",
       "    </tr>\n",
       "    <tr>\n",
       "      <th>(660, 800]</th>\n",
       "      <td>NaN</td>\n",
       "      <td>6.0</td>\n",
       "      <td>NaN</td>\n",
       "      <td>2.0</td>\n",
       "      <td>3.0</td>\n",
       "      <td>4.0</td>\n",
       "      <td>2.0</td>\n",
       "      <td>4.0</td>\n",
       "      <td>1.0</td>\n",
       "      <td>4.0</td>\n",
       "      <td>6.0</td>\n",
       "      <td>2.0</td>\n",
       "      <td>4.0</td>\n",
       "      <td>8.0</td>\n",
       "      <td>10.0</td>\n",
       "      <td>3.0</td>\n",
       "    </tr>\n",
       "    <tr>\n",
       "      <th rowspan=\"4\" valign=\"top\">1</th>\n",
       "      <th>[220, 520]</th>\n",
       "      <td>2.0</td>\n",
       "      <td>5.0</td>\n",
       "      <td>1.0</td>\n",
       "      <td>NaN</td>\n",
       "      <td>NaN</td>\n",
       "      <td>3.0</td>\n",
       "      <td>1.0</td>\n",
       "      <td>1.0</td>\n",
       "      <td>2.0</td>\n",
       "      <td>1.0</td>\n",
       "      <td>3.0</td>\n",
       "      <td>1.0</td>\n",
       "      <td>2.0</td>\n",
       "      <td>2.0</td>\n",
       "      <td>2.0</td>\n",
       "      <td>2.0</td>\n",
       "    </tr>\n",
       "    <tr>\n",
       "      <th>(520, 580]</th>\n",
       "      <td>1.0</td>\n",
       "      <td>NaN</td>\n",
       "      <td>2.0</td>\n",
       "      <td>1.0</td>\n",
       "      <td>2.0</td>\n",
       "      <td>2.0</td>\n",
       "      <td>1.0</td>\n",
       "      <td>NaN</td>\n",
       "      <td>2.0</td>\n",
       "      <td>4.0</td>\n",
       "      <td>NaN</td>\n",
       "      <td>1.0</td>\n",
       "      <td>1.0</td>\n",
       "      <td>3.0</td>\n",
       "      <td>1.0</td>\n",
       "      <td>NaN</td>\n",
       "    </tr>\n",
       "    <tr>\n",
       "      <th>(580, 660]</th>\n",
       "      <td>NaN</td>\n",
       "      <td>2.0</td>\n",
       "      <td>1.0</td>\n",
       "      <td>NaN</td>\n",
       "      <td>1.0</td>\n",
       "      <td>5.0</td>\n",
       "      <td>2.0</td>\n",
       "      <td>1.0</td>\n",
       "      <td>4.0</td>\n",
       "      <td>5.0</td>\n",
       "      <td>4.0</td>\n",
       "      <td>NaN</td>\n",
       "      <td>3.0</td>\n",
       "      <td>6.0</td>\n",
       "      <td>2.0</td>\n",
       "      <td>1.0</td>\n",
       "    </tr>\n",
       "    <tr>\n",
       "      <th>(660, 800]</th>\n",
       "      <td>2.0</td>\n",
       "      <td>3.0</td>\n",
       "      <td>1.0</td>\n",
       "      <td>1.0</td>\n",
       "      <td>1.0</td>\n",
       "      <td>3.0</td>\n",
       "      <td>NaN</td>\n",
       "      <td>NaN</td>\n",
       "      <td>4.0</td>\n",
       "      <td>5.0</td>\n",
       "      <td>1.0</td>\n",
       "      <td>3.0</td>\n",
       "      <td>6.0</td>\n",
       "      <td>4.0</td>\n",
       "      <td>6.0</td>\n",
       "      <td>NaN</td>\n",
       "    </tr>\n",
       "  </tbody>\n",
       "</table>\n",
       "</div>"
      ],
      "text/plain": [
       "                          len                                                  \\\n",
       "                          gre                                                   \n",
       "gpa              [2.26, 3.13]                   (3.13, 3.395]                   \n",
       "prestige                  1.0   2.0   3.0   4.0           1.0  2.0   3.0  4.0   \n",
       "admit gre                                                                       \n",
       "0     [220, 520]          5.0  12.0  18.0  12.0           3.0  6.0  11.0  5.0   \n",
       "      (520, 580]          2.0   9.0   3.0   1.0           4.0  4.0   5.0  5.0   \n",
       "      (580, 660]          NaN   5.0   2.0   3.0           3.0  6.0   5.0  3.0   \n",
       "      (660, 800]          NaN   6.0   NaN   2.0           3.0  4.0   2.0  4.0   \n",
       "1     [220, 520]          2.0   5.0   1.0   NaN           NaN  3.0   1.0  1.0   \n",
       "      (520, 580]          1.0   NaN   2.0   1.0           2.0  2.0   1.0  NaN   \n",
       "      (580, 660]          NaN   2.0   1.0   NaN           1.0  5.0   2.0  1.0   \n",
       "      (660, 800]          2.0   3.0   1.0   1.0           1.0  3.0   NaN  NaN   \n",
       "\n",
       "                                                                         \n",
       "                                                                         \n",
       "gpa              (3.395, 3.67]                (3.67, 4]                  \n",
       "prestige                   1.0  2.0  3.0  4.0       1.0  2.0   3.0  4.0  \n",
       "admit gre                                                                \n",
       "0     [220, 520]           NaN  8.0  5.0  3.0       NaN  1.0   2.0  3.0  \n",
       "      (520, 580]           NaN  6.0  5.0  4.0       2.0  3.0   3.0  2.0  \n",
       "      (580, 660]           NaN  9.0  7.0  2.0       1.0  4.0   9.0  1.0  \n",
       "      (660, 800]           1.0  4.0  6.0  2.0       4.0  8.0  10.0  3.0  \n",
       "1     [220, 520]           2.0  1.0  3.0  1.0       2.0  2.0   2.0  2.0  \n",
       "      (520, 580]           2.0  4.0  NaN  1.0       1.0  3.0   1.0  NaN  \n",
       "      (580, 660]           4.0  5.0  4.0  NaN       3.0  6.0   2.0  1.0  \n",
       "      (660, 800]           4.0  5.0  1.0  3.0       6.0  4.0   6.0  NaN  "
      ]
     },
     "execution_count": 156,
     "metadata": {},
     "output_type": "execute_result"
    }
   ],
   "source": [
    "# What is the sample size distribution among quantiles of gre and gpa by prestige level?\n",
    "df_raw.pivot_table(['gre'], ['admit', gre_quantiles], [gpa_quantiles, 'prestige'], aggfunc=[len])"
   ]
  },
  {
   "cell_type": "code",
   "execution_count": 157,
   "metadata": {
    "collapsed": false
   },
   "outputs": [
    {
     "data": {
      "text/html": [
       "<div>\n",
       "<table border=\"1\" class=\"dataframe\">\n",
       "  <thead>\n",
       "    <tr>\n",
       "      <th></th>\n",
       "      <th></th>\n",
       "      <th colspan=\"16\" halign=\"left\">std</th>\n",
       "    </tr>\n",
       "    <tr>\n",
       "      <th></th>\n",
       "      <th></th>\n",
       "      <th colspan=\"16\" halign=\"left\">gre</th>\n",
       "    </tr>\n",
       "    <tr>\n",
       "      <th></th>\n",
       "      <th>gpa</th>\n",
       "      <th colspan=\"4\" halign=\"left\">[2.26, 3.13]</th>\n",
       "      <th colspan=\"4\" halign=\"left\">(3.13, 3.395]</th>\n",
       "      <th colspan=\"4\" halign=\"left\">(3.395, 3.67]</th>\n",
       "      <th colspan=\"4\" halign=\"left\">(3.67, 4]</th>\n",
       "    </tr>\n",
       "    <tr>\n",
       "      <th></th>\n",
       "      <th>prestige</th>\n",
       "      <th>1.0</th>\n",
       "      <th>2.0</th>\n",
       "      <th>3.0</th>\n",
       "      <th>4.0</th>\n",
       "      <th>1.0</th>\n",
       "      <th>2.0</th>\n",
       "      <th>3.0</th>\n",
       "      <th>4.0</th>\n",
       "      <th>1.0</th>\n",
       "      <th>2.0</th>\n",
       "      <th>3.0</th>\n",
       "      <th>4.0</th>\n",
       "      <th>1.0</th>\n",
       "      <th>2.0</th>\n",
       "      <th>3.0</th>\n",
       "      <th>4.0</th>\n",
       "    </tr>\n",
       "    <tr>\n",
       "      <th>admit</th>\n",
       "      <th>gre</th>\n",
       "      <th></th>\n",
       "      <th></th>\n",
       "      <th></th>\n",
       "      <th></th>\n",
       "      <th></th>\n",
       "      <th></th>\n",
       "      <th></th>\n",
       "      <th></th>\n",
       "      <th></th>\n",
       "      <th></th>\n",
       "      <th></th>\n",
       "      <th></th>\n",
       "      <th></th>\n",
       "      <th></th>\n",
       "      <th></th>\n",
       "      <th></th>\n",
       "    </tr>\n",
       "  </thead>\n",
       "  <tbody>\n",
       "    <tr>\n",
       "      <th rowspan=\"4\" valign=\"top\">0</th>\n",
       "      <th>[220, 520]</th>\n",
       "      <td>53.665631</td>\n",
       "      <td>47.097578</td>\n",
       "      <td>87.372690</td>\n",
       "      <td>67.149765</td>\n",
       "      <td>80.000000</td>\n",
       "      <td>43.204938</td>\n",
       "      <td>70.478881</td>\n",
       "      <td>46.043458</td>\n",
       "      <td>NaN</td>\n",
       "      <td>33.806170</td>\n",
       "      <td>57.619441</td>\n",
       "      <td>61.101009</td>\n",
       "      <td>NaN</td>\n",
       "      <td>NaN</td>\n",
       "      <td>28.284271</td>\n",
       "      <td>46.188022</td>\n",
       "    </tr>\n",
       "    <tr>\n",
       "      <th>(520, 580]</th>\n",
       "      <td>0.000000</td>\n",
       "      <td>15.634719</td>\n",
       "      <td>11.547005</td>\n",
       "      <td>NaN</td>\n",
       "      <td>19.148542</td>\n",
       "      <td>20.000000</td>\n",
       "      <td>10.954451</td>\n",
       "      <td>14.142136</td>\n",
       "      <td>NaN</td>\n",
       "      <td>19.663842</td>\n",
       "      <td>10.954451</td>\n",
       "      <td>19.148542</td>\n",
       "      <td>0.000000</td>\n",
       "      <td>11.547005</td>\n",
       "      <td>20.000000</td>\n",
       "      <td>28.284271</td>\n",
       "    </tr>\n",
       "    <tr>\n",
       "      <th>(580, 660]</th>\n",
       "      <td>NaN</td>\n",
       "      <td>14.142136</td>\n",
       "      <td>14.142136</td>\n",
       "      <td>11.547005</td>\n",
       "      <td>30.550505</td>\n",
       "      <td>24.221203</td>\n",
       "      <td>22.803509</td>\n",
       "      <td>30.550505</td>\n",
       "      <td>NaN</td>\n",
       "      <td>22.607767</td>\n",
       "      <td>23.094011</td>\n",
       "      <td>14.142136</td>\n",
       "      <td>NaN</td>\n",
       "      <td>16.329932</td>\n",
       "      <td>17.638342</td>\n",
       "      <td>NaN</td>\n",
       "    </tr>\n",
       "    <tr>\n",
       "      <th>(660, 800]</th>\n",
       "      <td>NaN</td>\n",
       "      <td>54.772256</td>\n",
       "      <td>NaN</td>\n",
       "      <td>14.142136</td>\n",
       "      <td>20.000000</td>\n",
       "      <td>10.000000</td>\n",
       "      <td>28.284271</td>\n",
       "      <td>48.989795</td>\n",
       "      <td>NaN</td>\n",
       "      <td>50.000000</td>\n",
       "      <td>56.213877</td>\n",
       "      <td>14.142136</td>\n",
       "      <td>64.031242</td>\n",
       "      <td>54.248107</td>\n",
       "      <td>31.902630</td>\n",
       "      <td>30.550505</td>\n",
       "    </tr>\n",
       "    <tr>\n",
       "      <th rowspan=\"4\" valign=\"top\">1</th>\n",
       "      <th>[220, 520]</th>\n",
       "      <td>0.000000</td>\n",
       "      <td>92.736185</td>\n",
       "      <td>NaN</td>\n",
       "      <td>NaN</td>\n",
       "      <td>NaN</td>\n",
       "      <td>61.101009</td>\n",
       "      <td>NaN</td>\n",
       "      <td>NaN</td>\n",
       "      <td>14.142136</td>\n",
       "      <td>NaN</td>\n",
       "      <td>23.094011</td>\n",
       "      <td>NaN</td>\n",
       "      <td>0.000000</td>\n",
       "      <td>0.000000</td>\n",
       "      <td>42.426407</td>\n",
       "      <td>28.284271</td>\n",
       "    </tr>\n",
       "    <tr>\n",
       "      <th>(520, 580]</th>\n",
       "      <td>NaN</td>\n",
       "      <td>NaN</td>\n",
       "      <td>14.142136</td>\n",
       "      <td>NaN</td>\n",
       "      <td>14.142136</td>\n",
       "      <td>0.000000</td>\n",
       "      <td>NaN</td>\n",
       "      <td>NaN</td>\n",
       "      <td>28.284271</td>\n",
       "      <td>16.329932</td>\n",
       "      <td>NaN</td>\n",
       "      <td>NaN</td>\n",
       "      <td>NaN</td>\n",
       "      <td>0.000000</td>\n",
       "      <td>NaN</td>\n",
       "      <td>NaN</td>\n",
       "    </tr>\n",
       "    <tr>\n",
       "      <th>(580, 660]</th>\n",
       "      <td>NaN</td>\n",
       "      <td>28.284271</td>\n",
       "      <td>NaN</td>\n",
       "      <td>NaN</td>\n",
       "      <td>NaN</td>\n",
       "      <td>21.908902</td>\n",
       "      <td>14.142136</td>\n",
       "      <td>NaN</td>\n",
       "      <td>19.148542</td>\n",
       "      <td>30.331502</td>\n",
       "      <td>30.000000</td>\n",
       "      <td>NaN</td>\n",
       "      <td>11.547005</td>\n",
       "      <td>16.329932</td>\n",
       "      <td>0.000000</td>\n",
       "      <td>NaN</td>\n",
       "    </tr>\n",
       "    <tr>\n",
       "      <th>(660, 800]</th>\n",
       "      <td>56.568542</td>\n",
       "      <td>30.550505</td>\n",
       "      <td>NaN</td>\n",
       "      <td>NaN</td>\n",
       "      <td>NaN</td>\n",
       "      <td>52.915026</td>\n",
       "      <td>NaN</td>\n",
       "      <td>NaN</td>\n",
       "      <td>52.599113</td>\n",
       "      <td>49.799598</td>\n",
       "      <td>NaN</td>\n",
       "      <td>40.000000</td>\n",
       "      <td>48.989795</td>\n",
       "      <td>52.915026</td>\n",
       "      <td>56.095157</td>\n",
       "      <td>NaN</td>\n",
       "    </tr>\n",
       "  </tbody>\n",
       "</table>\n",
       "</div>"
      ],
      "text/plain": [
       "                          std                                                 \\\n",
       "                          gre                                                  \n",
       "gpa              [2.26, 3.13]                                  (3.13, 3.395]   \n",
       "prestige                  1.0        2.0        3.0        4.0           1.0   \n",
       "admit gre                                                                      \n",
       "0     [220, 520]    53.665631  47.097578  87.372690  67.149765     80.000000   \n",
       "      (520, 580]     0.000000  15.634719  11.547005        NaN     19.148542   \n",
       "      (580, 660]          NaN  14.142136  14.142136  11.547005     30.550505   \n",
       "      (660, 800]          NaN  54.772256        NaN  14.142136     20.000000   \n",
       "1     [220, 520]     0.000000  92.736185        NaN        NaN           NaN   \n",
       "      (520, 580]          NaN        NaN  14.142136        NaN     14.142136   \n",
       "      (580, 660]          NaN  28.284271        NaN        NaN           NaN   \n",
       "      (660, 800]    56.568542  30.550505        NaN        NaN           NaN   \n",
       "\n",
       "                                                                            \\\n",
       "                                                                             \n",
       "gpa                                               (3.395, 3.67]              \n",
       "prestige                2.0        3.0        4.0           1.0        2.0   \n",
       "admit gre                                                                    \n",
       "0     [220, 520]  43.204938  70.478881  46.043458           NaN  33.806170   \n",
       "      (520, 580]  20.000000  10.954451  14.142136           NaN  19.663842   \n",
       "      (580, 660]  24.221203  22.803509  30.550505           NaN  22.607767   \n",
       "      (660, 800]  10.000000  28.284271  48.989795           NaN  50.000000   \n",
       "1     [220, 520]  61.101009        NaN        NaN     14.142136        NaN   \n",
       "      (520, 580]   0.000000        NaN        NaN     28.284271  16.329932   \n",
       "      (580, 660]  21.908902  14.142136        NaN     19.148542  30.331502   \n",
       "      (660, 800]  52.915026        NaN        NaN     52.599113  49.799598   \n",
       "\n",
       "                                                                         \\\n",
       "                                                                          \n",
       "gpa                                     (3.67, 4]                         \n",
       "prestige                3.0        4.0        1.0        2.0        3.0   \n",
       "admit gre                                                                 \n",
       "0     [220, 520]  57.619441  61.101009        NaN        NaN  28.284271   \n",
       "      (520, 580]  10.954451  19.148542   0.000000  11.547005  20.000000   \n",
       "      (580, 660]  23.094011  14.142136        NaN  16.329932  17.638342   \n",
       "      (660, 800]  56.213877  14.142136  64.031242  54.248107  31.902630   \n",
       "1     [220, 520]  23.094011        NaN   0.000000   0.000000  42.426407   \n",
       "      (520, 580]        NaN        NaN        NaN   0.000000        NaN   \n",
       "      (580, 660]  30.000000        NaN  11.547005  16.329932   0.000000   \n",
       "      (660, 800]        NaN  40.000000  48.989795  52.915026  56.095157   \n",
       "\n",
       "                             \n",
       "                             \n",
       "gpa                          \n",
       "prestige                4.0  \n",
       "admit gre                    \n",
       "0     [220, 520]  46.188022  \n",
       "      (520, 580]  28.284271  \n",
       "      (580, 660]        NaN  \n",
       "      (660, 800]  30.550505  \n",
       "1     [220, 520]  28.284271  \n",
       "      (520, 580]        NaN  \n",
       "      (580, 660]        NaN  \n",
       "      (660, 800]        NaN  "
      ]
     },
     "execution_count": 157,
     "metadata": {},
     "output_type": "execute_result"
    }
   ],
   "source": [
    "# What is the standard deviation distribution among quantiles of gre and gpa by prestige level?\n",
    "df_raw.pivot_table(['gre'], ['admit', gre_quantiles], [gpa_quantiles, 'prestige'], aggfunc=[np.std])"
   ]
  },
  {
   "cell_type": "markdown",
   "metadata": {},
   "source": [
    "#### Question 3. Why would GRE have a larger STD than GPA?"
   ]
  },
  {
   "cell_type": "code",
   "execution_count": 9,
   "metadata": {
    "collapsed": false
   },
   "outputs": [
    {
     "data": {
      "text/plain": [
       "gre    115.628513\n",
       "gpa      0.380630\n",
       "dtype: float64"
      ]
     },
     "execution_count": 9,
     "metadata": {},
     "output_type": "execute_result"
    }
   ],
   "source": [
    "# Inspect gre, gpa std\n",
    "df_raw.std()[['gre', 'gpa']]"
   ]
  },
  {
   "cell_type": "markdown",
   "metadata": {},
   "source": [
    "Answer: Because the GRE consists of three parts: quantitative reasoning, verbal reasoning, and analytical writing\n",
    "and because test takers each have different academic degrees, there is going to be larger variation across testing\n",
    "for knowledge in these areas. Specifically, I would expect skills in quantitative & verbal reasoning, and analytical writing to vary by academic institution, academic college, academic department, academic degree program, and degree program specialization. This is because most academic institutions, including their colleges, departments, and degree programs tend to put varied emphasis on having different quantitative, verbal, and writing skills. \n",
    "\n",
    "e.g., Theatre arts majors, might not need to have a strong background in quantitative reasoning, so they may not have to take classes focusing on quantitative reasoning (unless they went to strong engineering college). Similary, a computer engineering major may not need to have a strong background in English literature, so the emphasis is not on building analytical writing skills (unless they went to a strong liberal arts college). Therefore, I would expect more variation in GRE scores due to the many different degree programs having a different focus on acquiring different skills, and in varying amounts."
   ]
  },
  {
   "cell_type": "markdown",
   "metadata": {
    "collapsed": true
   },
   "source": [
    "#### Question 4. Drop data points with missing data\n"
   ]
  },
  {
   "cell_type": "code",
   "execution_count": 10,
   "metadata": {
    "collapsed": false
   },
   "outputs": [
    {
     "data": {
      "text/plain": [
       "admit       0\n",
       "gre         2\n",
       "gpa         2\n",
       "prestige    1\n",
       "dtype: int64"
      ]
     },
     "execution_count": 10,
     "metadata": {},
     "output_type": "execute_result"
    }
   ],
   "source": [
    "# Which columns have missing data?\n",
    "df_raw.isnull().sum()"
   ]
  },
  {
   "cell_type": "code",
   "execution_count": 11,
   "metadata": {
    "collapsed": false
   },
   "outputs": [
    {
     "data": {
      "text/html": [
       "<div>\n",
       "<table border=\"1\" class=\"dataframe\">\n",
       "  <thead>\n",
       "    <tr style=\"text-align: right;\">\n",
       "      <th></th>\n",
       "      <th>admit</th>\n",
       "      <th>gre</th>\n",
       "      <th>gpa</th>\n",
       "      <th>prestige</th>\n",
       "    </tr>\n",
       "  </thead>\n",
       "  <tbody>\n",
       "    <tr>\n",
       "      <th>187</th>\n",
       "      <td>0</td>\n",
       "      <td>NaN</td>\n",
       "      <td>NaN</td>\n",
       "      <td>2.0</td>\n",
       "    </tr>\n",
       "    <tr>\n",
       "      <th>212</th>\n",
       "      <td>0</td>\n",
       "      <td>NaN</td>\n",
       "      <td>2.87</td>\n",
       "      <td>2.0</td>\n",
       "    </tr>\n",
       "    <tr>\n",
       "      <th>236</th>\n",
       "      <td>1</td>\n",
       "      <td>660.0</td>\n",
       "      <td>NaN</td>\n",
       "      <td>NaN</td>\n",
       "    </tr>\n",
       "  </tbody>\n",
       "</table>\n",
       "</div>"
      ],
      "text/plain": [
       "     admit    gre   gpa  prestige\n",
       "187      0    NaN   NaN       2.0\n",
       "212      0    NaN  2.87       2.0\n",
       "236      1  660.0   NaN       NaN"
      ]
     },
     "execution_count": 11,
     "metadata": {},
     "output_type": "execute_result"
    }
   ],
   "source": [
    "# Which records are null?\n",
    "df_raw[df_raw.isnull().any(axis=1)]"
   ]
  },
  {
   "cell_type": "code",
   "execution_count": 12,
   "metadata": {
    "collapsed": false
   },
   "outputs": [
    {
     "name": "stdout",
     "output_type": "stream",
     "text": [
      "(400, 4)\n"
     ]
    }
   ],
   "source": [
    "# What is shape of dataframe before dropping records?\n",
    "shape_before_dropna = df_raw.shape\n",
    "print(shape_before_dropna)"
   ]
  },
  {
   "cell_type": "code",
   "execution_count": 13,
   "metadata": {
    "collapsed": false
   },
   "outputs": [
    {
     "name": "stdout",
     "output_type": "stream",
     "text": [
      "(397, 4)\n"
     ]
    }
   ],
   "source": [
    "# Inspect shape before dropping missing values\n",
    "shape_after_dropna = df_raw.dropna(how='any').shape\n",
    "print(shape_after_dropna)"
   ]
  },
  {
   "cell_type": "code",
   "execution_count": 14,
   "metadata": {
    "collapsed": true
   },
   "outputs": [],
   "source": [
    "# Now, drop missing values\n",
    "df_raw.dropna(how='any', inplace=True)"
   ]
  },
  {
   "cell_type": "markdown",
   "metadata": {
    "collapsed": true
   },
   "source": [
    "#### Question 5. Confirm that you dropped the correct data. How can you tell? "
   ]
  },
  {
   "cell_type": "markdown",
   "metadata": {},
   "source": [
    "Answer: Before dropping missing values the dataframe shape was (400, 4). After dropping missing values the dataframe\n",
    "shape was (397, 3). The `isnull()` method showed that there were three records having any values missing in a row (axis=1)."
   ]
  },
  {
   "cell_type": "markdown",
   "metadata": {},
   "source": [
    "#### Question 6. Create box plots for GRE and GPA"
   ]
  },
  {
   "cell_type": "code",
   "execution_count": 178,
   "metadata": {
    "collapsed": false
   },
   "outputs": [
    {
     "data": {
      "text/plain": [
       "<matplotlib.text.Text at 0x7fbb1ccd2e10>"
      ]
     },
     "execution_count": 178,
     "metadata": {},
     "output_type": "execute_result"
    },
    {
     "data": {
      "image/png": "[encoded data removed]",
      "text/plain": [
       "<matplotlib.figure.Figure at 0x7fbb1c55a110>"
      ]
     },
     "metadata": {},
     "output_type": "display_data"
    }
   ],
   "source": [
    "#boxplot 1\n",
    "#df_raw.boxplot('gre')\n",
    "sns.boxplot('gre', data=df_raw)\n",
    "sns.plt.title('GRE: Box and Whiskers Plot')"
   ]
  },
  {
   "cell_type": "code",
   "execution_count": 179,
   "metadata": {
    "collapsed": false
   },
   "outputs": [
    {
     "data": {
      "text/plain": [
       "<matplotlib.text.Text at 0x7fbb1c084e10>"
      ]
     },
     "execution_count": 179,
     "metadata": {},
     "output_type": "execute_result"
    },
    {
     "data": {
      "image/png": "[encoded data removed]",
      "text/plain": [
       "<matplotlib.figure.Figure at 0x7fbb1c12da90>"
      ]
     },
     "metadata": {},
     "output_type": "display_data"
    }
   ],
   "source": [
    "#boxplot 2 \n",
    "#df_raw.boxplot('gpa')\n",
    "sns.boxplot('gpa', data=df_raw)\n",
    "sns.plt.title('GPA: Box and Whiskers Plot')"
   ]
  },
  {
   "cell_type": "markdown",
   "metadata": {},
   "source": [
    "#### Question 7. What do these plots show?"
   ]
  },
  {
   "cell_type": "markdown",
   "metadata": {},
   "source": [
    "Answer: They show the data's spread, or how far from the center the data tend to range. Specifically, boxplots show the middle fifty percent of the data, and its range.\n",
    "\n",
    "The idea is to divide the data into four equal groups and see how far apart the extreme groups are.The data is first divided into two equal high and low groups at the median, which is called the second quartile, or Q2.\n",
    "The median of the low group is called the first quartile or Q1. The median of the high group is the third quartile, or Q3. The box's ends are the quartiles Q1 and Q3 respectively. The box's midline is the quartile Q2, which is the median of the data. The interquartile range (IQR) is the distance between the box's ends: the distance between the third quartile and the first quartile, or Q3-Q1. These plots are especially good for showing off differences between  the high and low groups, as well as outliers."
   ]
  },
  {
   "cell_type": "markdown",
   "metadata": {},
   "source": [
    "#### Question 8. Describe each distribution "
   ]
  },
  {
   "cell_type": "code",
   "execution_count": 20,
   "metadata": {
    "collapsed": false
   },
   "outputs": [
    {
     "data": {
      "image/png": "[encoded data removed]",
      "text/plain": [
       "<matplotlib.figure.Figure at 0x7f104cc396d0>"
      ]
     },
     "metadata": {},
     "output_type": "display_data"
    }
   ],
   "source": [
    "# plot the distribution of each variable \n",
    "df_raw.plot(kind='density', subplots=True, layout=(2, 2), sharex=False)\n",
    "plt.show()"
   ]
  },
  {
   "cell_type": "markdown",
   "metadata": {},
   "source": [
    "The *Admit distribtion* is bimodal (has two modes, 0, and 1) as expected. Both the *GRE distribution* and *GPA distribution* are approximately symmetrical. The *Prestige distribution* is multimodal (has four modes, 1, 2, 3, 4) as expected."
   ]
  },
  {
   "cell_type": "markdown",
   "metadata": {},
   "source": [
    "#### Question 9.  If our model had an assumption of a normal distribution would we meet that requirement? "
   ]
  },
  {
   "cell_type": "code",
   "execution_count": 121,
   "metadata": {
    "collapsed": false
   },
   "outputs": [
    {
     "name": "stdout",
     "output_type": "stream",
     "text": [
      "('GRE:      ', KstestResult(statistic=1.0, pvalue=0.0))\n",
      "('Kurtosis: ', -0.33286435465143427)\n",
      "('Skew:     ', -0.146046988215597)\n",
      "~~~~~~~~~~~\n",
      "('GPA      : ', KstestResult(statistic=0.98972085476178895, pvalue=0.0))\n",
      "('Kurtosis: ', -0.56356989952216807)\n",
      "('Skew:     ', -0.21688893296924305)\n",
      "~~~~~~~~~~~\n",
      "('Admit:    ', KstestResult(statistic=0.5, pvalue=0.0))\n",
      "('Kurtosis: ', -1.3865881769308692)\n",
      "('Skew:     ', 0.7876691478505351)\n",
      "~~~~~~~~~~~\n",
      "('Prestige: ', KstestResult(statistic=0.84134474606854293, pvalue=0.0))\n",
      "('Kurtosis: ', -0.90103795489017591)\n",
      "('Skew:     ', 0.086505552897055041)\n"
     ]
    }
   ],
   "source": [
    "# Test for normality using the Kolmogorov-Smirnov Test\n",
    "\n",
    "# GRE normal?\n",
    "print('GRE:      ', stats.kstest(df_raw.gre, 'norm'))\n",
    "print('Kurtosis: ', df_raw.gre.kurt())\n",
    "print('Skew:     ', df_raw.gre.skew())\n",
    "\n",
    "print('~~~~~~~~~~~')\n",
    "\n",
    "# GPA normal?\n",
    "print('GPA      : ', stats.kstest(df_raw.gpa, 'norm'))\n",
    "print('Kurtosis: ', df_raw.gpa.kurt())\n",
    "print('Skew:     ', df_raw.gpa.skew())\n",
    "\n",
    "print('~~~~~~~~~~~')\n",
    "\n",
    "# Admit normal?\n",
    "print('Admit:    ', stats.kstest(df_raw.admit, 'norm'))\n",
    "print('Kurtosis: ', df_raw.admit.kurt())\n",
    "print('Skew:     ', df_raw.admit.skew())\n",
    "\n",
    "print('~~~~~~~~~~~')\n",
    "\n",
    "# Prestige normal?\n",
    "print('Prestige: ', stats.kstest(df_raw.prestige, 'norm'))\n",
    "print('Kurtosis: ', df_raw.prestige.kurt())\n",
    "print('Skew:     ', df_raw.prestige.skew())"
   ]
  },
  {
   "cell_type": "markdown",
   "metadata": {},
   "source": [
    "Answer: No. We would not meet that requirement. Because according to the **Kolmogorov-Smirnov test**, there is zero percent chance that the test statistic values of `D` we observed for GRE, GPA, Admit, and Prestige respectively `(1.0, 0.9897, 0.5, and 0.8413`) could have arisen if the data had been drawn from a normal distribution. We therefore reject the hypothesis at the 95% confidence level that the data were drawn from a normal distribution and conclude that the data is not normally distributed."
   ]
  },
  {
   "cell_type": "markdown",
   "metadata": {},
   "source": [
    "#### Question 10.  Does this distribution need correction? If so, why? How? "
   ]
  },
  {
   "cell_type": "markdown",
   "metadata": {},
   "source": [
    "Answer: Yes, it needs correction. It needs correction because the distributions are not normal. They are both left-skewed and leptokurtic. I plan to remove outliers and log transform the data."
   ]
  },
  {
   "cell_type": "code",
   "execution_count": 49,
   "metadata": {
    "collapsed": false
   },
   "outputs": [
    {
     "name": "stdout",
     "output_type": "stream",
     "text": [
      "('GRE IQR: ', 140.0)\n",
      "('GRE low fence: ', 310.0)\n",
      "('GRE high fence: ', 870.0)\n"
     ]
    }
   ],
   "source": [
    "# GRE IQR\n",
    "q3_gre = summary_stats_admissions.gre['75%']\n",
    "q1_gre = summary_stats_admissions.gre['25%']\n",
    "iqr_gre = q3_gre - q1_gre\n",
    "low_fence_gre = q1_gre - 1.5*iqr_gre\n",
    "high_fence_gre = q3_gre + 1.5*iqr_gre\n",
    "print(\"GRE IQR: \", iqr_gre)\n",
    "print(\"GRE low fence: \", low_fence_gre)\n",
    "print(\"GRE high fence: \", high_fence_gre)"
   ]
  },
  {
   "cell_type": "code",
   "execution_count": 126,
   "metadata": {
    "collapsed": false
   },
   "outputs": [
    {
     "name": "stdout",
     "output_type": "stream",
     "text": [
      "('Number of outliers: ', 4)\n",
      "These are the outliers: \n"
     ]
    },
    {
     "data": {
      "text/html": [
       "<div>\n",
       "<table border=\"1\" class=\"dataframe\">\n",
       "  <thead>\n",
       "    <tr style=\"text-align: right;\">\n",
       "      <th></th>\n",
       "      <th>admit</th>\n",
       "      <th>gre</th>\n",
       "      <th>gpa</th>\n",
       "      <th>prestige</th>\n",
       "    </tr>\n",
       "  </thead>\n",
       "  <tbody>\n",
       "    <tr>\n",
       "      <th>71</th>\n",
       "      <td>0</td>\n",
       "      <td>300.0</td>\n",
       "      <td>2.92</td>\n",
       "      <td>4.0</td>\n",
       "    </tr>\n",
       "    <tr>\n",
       "      <th>179</th>\n",
       "      <td>0</td>\n",
       "      <td>300.0</td>\n",
       "      <td>3.01</td>\n",
       "      <td>3.0</td>\n",
       "    </tr>\n",
       "    <tr>\n",
       "      <th>304</th>\n",
       "      <td>0</td>\n",
       "      <td>220.0</td>\n",
       "      <td>2.83</td>\n",
       "      <td>3.0</td>\n",
       "    </tr>\n",
       "    <tr>\n",
       "      <th>315</th>\n",
       "      <td>1</td>\n",
       "      <td>300.0</td>\n",
       "      <td>2.84</td>\n",
       "      <td>2.0</td>\n",
       "    </tr>\n",
       "  </tbody>\n",
       "</table>\n",
       "</div>"
      ],
      "text/plain": [
       "     admit    gre   gpa  prestige\n",
       "71       0  300.0  2.92       4.0\n",
       "179      0  300.0  3.01       3.0\n",
       "304      0  220.0  2.83       3.0\n",
       "315      1  300.0  2.84       2.0"
      ]
     },
     "execution_count": 126,
     "metadata": {},
     "output_type": "execute_result"
    }
   ],
   "source": [
    "# Find GRE outliers\n",
    "print('Number of outliers: ', df_raw[(df_raw.gre < low_fence_gre) | (df_raw.gre > high_fence_gre)].shape[0])\n",
    "print('These are the outliers: ')\n",
    "df_raw[(df_raw.gre < low_fence_gre) | (df_raw.gre > high_fence_gre)]"
   ]
  },
  {
   "cell_type": "code",
   "execution_count": 127,
   "metadata": {
    "collapsed": false
   },
   "outputs": [
    {
     "name": "stdout",
     "output_type": "stream",
     "text": [
      "('Shape before outlier removal is: ', (397, 4))\n",
      "('Shape after outlier removal is: ', (393, 4))\n"
     ]
    }
   ],
   "source": [
    "# Remove GRE outliers\n",
    "print('Shape before outlier removal is: ', df_raw.shape)\n",
    "df = df_raw[(df_raw.gre >= low_fence_gre) & (df_raw.gre <= high_fence_gre)]\n",
    "print('Shape after outlier removal is: ', df.shape)"
   ]
  },
  {
   "cell_type": "code",
   "execution_count": 140,
   "metadata": {
    "collapsed": false
   },
   "outputs": [
    {
     "data": {
      "image/png": "[encoded data removed]",
      "text/plain": [
       "<matplotlib.figure.Figure at 0x7f104d51f890>"
      ]
     },
     "metadata": {},
     "output_type": "display_data"
    }
   ],
   "source": [
    "# Plot to visually inspect distribution, still looks skewed\n",
    "df.gre.plot.density()\n",
    "plt.title('GRE density')\n",
    "plt.show()"
   ]
  },
  {
   "cell_type": "code",
   "execution_count": 50,
   "metadata": {
    "collapsed": false
   },
   "outputs": [
    {
     "name": "stdout",
     "output_type": "stream",
     "text": [
      "('GPA IQR: ', 0.5)\n",
      "('GPA low fence: ', 2.3)\n",
      "('GPA high fence: ', 4.5)\n"
     ]
    }
   ],
   "source": [
    "# GPA IQR\n",
    "q3_gpa = summary_stats_admissions.gpa['75%']\n",
    "q1_gpa = summary_stats_admissions.gpa['25%']\n",
    "iqr_gpa = q3_gpa - q1_gpa\n",
    "low_fence_gpa = q1_gpa - 1.5*iqr_gpa\n",
    "high_fence_gpa = q3_gpa + 1.5*iqr_gpa\n",
    "print(\"GPA IQR: \", round(iqr_gpa, 1))\n",
    "print(\"GPA low fence: \", round(low_fence_gpa, 1))\n",
    "print(\"GPA high fence: \", round(high_fence_gpa, 1))"
   ]
  },
  {
   "cell_type": "code",
   "execution_count": 129,
   "metadata": {
    "collapsed": false
   },
   "outputs": [
    {
     "name": "stdout",
     "output_type": "stream",
     "text": [
      "('Number of outliers: ', 1)\n",
      "These are the outliers: \n"
     ]
    },
    {
     "data": {
      "text/html": [
       "<div>\n",
       "<table border=\"1\" class=\"dataframe\">\n",
       "  <thead>\n",
       "    <tr style=\"text-align: right;\">\n",
       "      <th></th>\n",
       "      <th>admit</th>\n",
       "      <th>gre</th>\n",
       "      <th>gpa</th>\n",
       "      <th>prestige</th>\n",
       "    </tr>\n",
       "  </thead>\n",
       "  <tbody>\n",
       "    <tr>\n",
       "      <th>289</th>\n",
       "      <td>0</td>\n",
       "      <td>420.0</td>\n",
       "      <td>2.26</td>\n",
       "      <td>4.0</td>\n",
       "    </tr>\n",
       "  </tbody>\n",
       "</table>\n",
       "</div>"
      ],
      "text/plain": [
       "     admit    gre   gpa  prestige\n",
       "289      0  420.0  2.26       4.0"
      ]
     },
     "execution_count": 129,
     "metadata": {},
     "output_type": "execute_result"
    }
   ],
   "source": [
    "# Now, find GPA Outliers\n",
    "print('Number of outliers: ', df[(df.gpa < low_fence_gpa) | (df.gpa > high_fence_gpa)].shape[0])\n",
    "print('These are the outliers: ')\n",
    "df[(df.gpa < low_fence_gpa) | (df.gpa > high_fence_gpa)]"
   ]
  },
  {
   "cell_type": "code",
   "execution_count": 130,
   "metadata": {
    "collapsed": false
   },
   "outputs": [
    {
     "name": "stdout",
     "output_type": "stream",
     "text": [
      "('Shape before outlier removal is: ', (393, 4))\n",
      "('Shape after outlier removal is: ', (392, 4))\n"
     ]
    }
   ],
   "source": [
    "print('Shape before outlier removal is: ', df.shape)\n",
    "df = df[(df.gpa >= low_fence_gpa) & (df.gpa <= high_fence_gpa)]\n",
    "print('Shape after outlier removal is: ', df.shape)"
   ]
  },
  {
   "cell_type": "code",
   "execution_count": 142,
   "metadata": {
    "collapsed": false,
    "scrolled": true
   },
   "outputs": [
    {
     "data": {
      "image/png": "[encoded data removed]",
      "text/plain": [
       "<matplotlib.figure.Figure at 0x7f104cdf5fd0>"
      ]
     },
     "metadata": {},
     "output_type": "display_data"
    }
   ],
   "source": [
    "# Plot to visually inspect distribution, still looks skewed!\n",
    "df.gpa.plot.density()\n",
    "plt.title('GPA density')\n",
    "plt.show()"
   ]
  },
  {
   "cell_type": "code",
   "execution_count": 186,
   "metadata": {
    "collapsed": false
   },
   "outputs": [
    {
     "name": "stdout",
     "output_type": "stream",
     "text": [
      "('GRE:      ', KstestResult(statistic=1.0, pvalue=0.0))\n",
      "('Kurtosis: ', -0.55667361627723366)\n",
      "('Skew:     ', -0.028408720277087456)\n",
      "~~~~~~~~~~~\n",
      "('GPA      : ', KstestResult(statistic=0.99223974644944635, pvalue=0.0))\n",
      "('Kurtosis: ', -0.62390073209492058)\n",
      "('Skew:     ', -0.19724629618780309)\n"
     ]
    }
   ],
   "source": [
    "# Removed outliers: re-test for normality using the Kolmogorov-Smirnov Test\n",
    "\n",
    "# Observation: skew got better, kurtosis got worse!\n",
    "\n",
    "# GRE\n",
    "print('GRE:      ', stats.kstest(df.gre, 'norm'))\n",
    "print('Kurtosis: ', df.gre.kurt())\n",
    "print('Skew:     ', df.gre.skew())\n",
    "\n",
    "print('~~~~~~~~~~~')\n",
    "\n",
    "# GPA\n",
    "print('GPA      : ', stats.kstest(df.gpa, 'norm'))\n",
    "print('Kurtosis: ', df.gpa.kurt())\n",
    "print('Skew:     ', df.gpa.skew())"
   ]
  },
  {
   "cell_type": "code",
   "execution_count": 168,
   "metadata": {
    "collapsed": false
   },
   "outputs": [
    {
     "data": {
      "image/png": "[encoded data removed]",
      "text/plain": [
       "<matplotlib.figure.Figure at 0x7f104b607950>"
      ]
     },
     "metadata": {},
     "output_type": "display_data"
    }
   ],
   "source": [
    "# Transform GRE distribution to standard normal \n",
    "sns.distplot( (df.gre - df.gre.mean()) / df.gre.std(), bins=5, kde_kws={'bw':1} )\n",
    "sns.plt.title('GRE to Standard Normal')\n",
    "sns.plt.show()"
   ]
  },
  {
   "cell_type": "code",
   "execution_count": 170,
   "metadata": {
    "collapsed": false
   },
   "outputs": [
    {
     "data": {
      "image/png": "[encoded data removed]",
      "text/plain": [
       "<matplotlib.figure.Figure at 0x7f104b5a42d0>"
      ]
     },
     "metadata": {},
     "output_type": "display_data"
    }
   ],
   "source": [
    "# Transform GPA distribution to standard normal \n",
    "sns.distplot( (df.gpa - df.gpa.mean()) / df.gpa.std(), bins=10, kde_kws={'bw':1} )\n",
    "sns.plt.title('GPA to Standard Normal')\n",
    "sns.plt.show()"
   ]
  },
  {
   "cell_type": "code",
   "execution_count": 185,
   "metadata": {
    "collapsed": false
   },
   "outputs": [
    {
     "name": "stdout",
     "output_type": "stream",
     "text": [
      "('GRE:      ', KstestResult(statistic=0.99999999721106625, pvalue=0.0))\n",
      "('Kurtosis: ', -0.18677728430420748)\n",
      "('Skew:     ', -0.47287836787183568)\n",
      "~~~~~~~~~~~\n",
      "('GPA      : ', KstestResult(statistic=0.81696385197730359, pvalue=0.0))\n",
      "('Kurtosis: ', -0.31189663172165183)\n",
      "('Skew:     ', -0.43724961849141997)\n"
     ]
    }
   ],
   "source": [
    "# Log transform the data: re-test for normality using the Kolmogorov-Smirnov Test\n",
    "\n",
    "# Observation: Skew got worse, Kurtosis got better\n",
    "\n",
    "# GRE\n",
    "print('GRE:      ', stats.kstest(np.log(df.gre), 'norm'))\n",
    "print('Kurtosis: ', np.log(df.gre).kurt())\n",
    "print('Skew:     ', np.log(df.gre).skew())\n",
    "\n",
    "print('~~~~~~~~~~~')\n",
    "\n",
    "# GPA\n",
    "print('GPA      : ', stats.kstest(np.log(df.gpa), 'norm'))\n",
    "print('Kurtosis: ', np.log(df.gpa).kurt())\n",
    "print('Skew:     ', np.log(df.gpa).skew())"
   ]
  },
  {
   "cell_type": "markdown",
   "metadata": {},
   "source": [
    "Answer: I don't know how to correct for the skewness and kurotis inherent in this data set.\n",
    "\n",
    "But here's what I found: \n",
    "\n",
    "1. After removing outliers, the skew got better, but the kurtosis got worse!\n",
    "2. After removing outliers and log transforming the data, the skew got worse, but the kurtosis got better!\n",
    "3. One way to normalize the data is to subtract the mean, and divide by the standard deviation. This puts the data on the standard normal scale."
   ]
  },
  {
   "cell_type": "markdown",
   "metadata": {},
   "source": [
    "#### Question 11. Which of our variables are potentially colinear? "
   ]
  },
  {
   "cell_type": "markdown",
   "metadata": {},
   "source": [
    "Answer: GPA and GRE are potentially collinear. i.e., They are moderately positively correlated."
   ]
  },
  {
   "cell_type": "code",
   "execution_count": 28,
   "metadata": {
    "collapsed": false
   },
   "outputs": [
    {
     "data": {
      "text/html": [
       "<div>\n",
       "<table border=\"1\" class=\"dataframe\">\n",
       "  <thead>\n",
       "    <tr style=\"text-align: right;\">\n",
       "      <th></th>\n",
       "      <th>admit</th>\n",
       "      <th>gre</th>\n",
       "      <th>gpa</th>\n",
       "      <th>prestige</th>\n",
       "    </tr>\n",
       "  </thead>\n",
       "  <tbody>\n",
       "    <tr>\n",
       "      <th>admit</th>\n",
       "      <td>1.000000</td>\n",
       "      <td>0.181202</td>\n",
       "      <td>0.174116</td>\n",
       "      <td>-0.243563</td>\n",
       "    </tr>\n",
       "    <tr>\n",
       "      <th>gre</th>\n",
       "      <td>0.181202</td>\n",
       "      <td>1.000000</td>\n",
       "      <td>0.382408</td>\n",
       "      <td>-0.124533</td>\n",
       "    </tr>\n",
       "    <tr>\n",
       "      <th>gpa</th>\n",
       "      <td>0.174116</td>\n",
       "      <td>0.382408</td>\n",
       "      <td>1.000000</td>\n",
       "      <td>-0.060976</td>\n",
       "    </tr>\n",
       "    <tr>\n",
       "      <th>prestige</th>\n",
       "      <td>-0.243563</td>\n",
       "      <td>-0.124533</td>\n",
       "      <td>-0.060976</td>\n",
       "      <td>1.000000</td>\n",
       "    </tr>\n",
       "  </tbody>\n",
       "</table>\n",
       "</div>"
      ],
      "text/plain": [
       "             admit       gre       gpa  prestige\n",
       "admit     1.000000  0.181202  0.174116 -0.243563\n",
       "gre       0.181202  1.000000  0.382408 -0.124533\n",
       "gpa       0.174116  0.382408  1.000000 -0.060976\n",
       "prestige -0.243563 -0.124533 -0.060976  1.000000"
      ]
     },
     "execution_count": 28,
     "metadata": {},
     "output_type": "execute_result"
    }
   ],
   "source": [
    "# create a correlation matrix for the data\n",
    "df_raw.corr()"
   ]
  },
  {
   "cell_type": "code",
   "execution_count": 29,
   "metadata": {
    "collapsed": false
   },
   "outputs": [
    {
     "data": {
      "text/plain": [
       "<matplotlib.axes._subplots.AxesSubplot at 0x7f104f4c9550>"
      ]
     },
     "execution_count": 29,
     "metadata": {},
     "output_type": "execute_result"
    },
    {
     "data": {
      "image/png": "[encoded data removed]",
      "text/plain": [
       "<matplotlib.figure.Figure at 0x7f104d3ed950>"
      ]
     },
     "metadata": {},
     "output_type": "display_data"
    }
   ],
   "source": [
    "sns.heatmap(df_raw.corr(), annot=True, cmap='RdBu')"
   ]
  },
  {
   "cell_type": "code",
   "execution_count": 30,
   "metadata": {
    "collapsed": false
   },
   "outputs": [
    {
     "data": {
      "image/png": "[encoded data removed]",
      "text/plain": [
       "<matplotlib.figure.Figure at 0x7f104d1bcbd0>"
      ]
     },
     "metadata": {},
     "output_type": "display_data"
    }
   ],
   "source": [
    "pd.scatter_matrix(df_raw)\n",
    "plt.show()"
   ]
  },
  {
   "cell_type": "markdown",
   "metadata": {},
   "source": [
    "#### Question 12. What did you find?"
   ]
  },
  {
   "cell_type": "markdown",
   "metadata": {},
   "source": [
    "Answer: GPA and GRE are potentially collinear. i.e., They are moderately positively correlated."
   ]
  },
  {
   "cell_type": "markdown",
   "metadata": {},
   "source": [
    "#### Question 13. Write an analysis plan for exploring the association between grad school admissions rates and prestige of  undergraduate schools."
   ]
  },
  {
   "cell_type": "markdown",
   "metadata": {},
   "source": [
    "Answer: First, inspect the spread of the data both graphically and in tabular form. Look at the counts in each of the factor-level combinations to see how each is represented. Generate summary statistics on each predictor to quality check the count, variance, std, quartiles, and number of Null values. Identify null values if any and remove them or impute values. Create both boxplots, histograms, and density plots to inspect the shape of the distributions. Check for outliers. Identify which data instances are outliers and remove them. Check the data distributions for normality by computing the kstest. At the same time evalute distribution skew, and kurtosis. If necessary, log transform the data to to help transform a non-normally distributed data distribution to a normal one (This won't always work, but its worth trying!). Finally, last but not least, rescale your data if necessary to the standard normal and then graph it to observe how your data fits the standard normal distribution."
   ]
  },
  {
   "cell_type": "markdown",
   "metadata": {},
   "source": [
    "#### Question 14. What is your hypothesis? "
   ]
  },
  {
   "cell_type": "markdown",
   "metadata": {},
   "source": [
    "Answer: We hypothesize that GRE, GPA, and prestige may be used to predict if a student will be admitted to graduate school."
   ]
  },
  {
   "cell_type": "markdown",
   "metadata": {},
   "source": [
    "## Bonus/Advanced"
   ]
  },
  {
   "cell_type": "markdown",
   "metadata": {},
   "source": [
    "#### 1. Bonus: Explore alternatives to dropping obervations with missing data"
   ]
  },
  {
   "cell_type": "markdown",
   "metadata": {},
   "source": [
    "#### 2. Bonus: Log transform the skewed data"
   ]
  },
  {
   "cell_type": "markdown",
   "metadata": {},
   "source": [
    "#### 3. Advanced: Impute missing data"
   ]
  },
  {
   "cell_type": "markdown",
   "metadata": {},
   "source": [
    "#### Performance Evaluation\n",
    "> Mark boxes with an 'X'\n",
    "\n",
    "| Requirements | Incomplete (0) | Does Not Meet Expectations (1) | Meets Expectations (2) | Exceeds Expectations (3) |\n",
    "|---|---|---|---|---|\n",
    "| Read in your dataset, determine how many samples are present, and ID any missing data | | |X | |\n",
    "| Create a table of descriptive statistics for each of the variables (n, mean, median, standard deviation) | | | |X|\n",
    "| Describe the distributions of your data | | | |X|\n",
    "| Plot box plots for each variable | | |X| |\n",
    "| Create a covariance matrix | | |X| |\n",
    "| Determine any issues or limitations, based on your exploratory analysis | | |X| |\n",
    "| Outline exploratory analysis methods | | | |X| |\n",
    "\n",
    "Notes:\n",
    "- \"Samples\" means rows of data, not individual cells\n",
    "- Great summary tables. Make sure you can explain them, this quickly becomes a lot of data in itself!\n",
    "- Excellent analysis of the distributions! You show a strong grasp of statistical terms and concepts, and a propensity to rely on tests rather than \"eyeballing\" it - which would often lead you astray. Great work!\n",
    "- I'd like to see more explanation of your box plots. You define them generically, but what about for our dataset. \n",
    "- Your covariance matrix is well done. It can be good to include an explanation of your cutoff point for deciding if things are colinear or not. \n",
    "- You do a good job of attempting to correct for outliers and awkward distributions. One thing to include might be an explanation of what this is doing to your model. You can't always correct data, but you can note the caveats it brings with it. \n",
    "- Solid and clear exploratory analysis plan. \n",
    "\n",
    "Overall, excellent work. I'm very impressed with your knowledge of statistics and your application in this context. Remember to keep your graphs organized and concise - don't include more than you need or the audience can get overwhelmed. Also always include an explanation with your visuals. Excellent job, you're very much on the right track. \n",
    "\n",
    "---\n",
    "\n",
    "## Score:\n",
    "Based on the requirements, you can earn a maximum of  **21**  points on this project. \n",
    "\n",
    "#### Your total score is: **16**"
   ]
  },
  {
   "cell_type": "code",
   "execution_count": null,
   "metadata": {
    "collapsed": true
   },
   "outputs": [],
   "source": []
  }
 ],
 "metadata": {
  "kernelspec": {
   "display_name": "Python 2",
   "language": "python",
   "name": "python2"
  },
  "language_info": {
   "codemirror_mode": {
    "name": "ipython",
    "version": 2
   },
   "file_extension": ".py",
   "mimetype": "text/x-python",
   "name": "python",
   "nbconvert_exporter": "python",
   "pygments_lexer": "ipython2",
   "version": "2.7.13"
  }
 },
 "nbformat": 4,
 "nbformat_minor": 0
}
